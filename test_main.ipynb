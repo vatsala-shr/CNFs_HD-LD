{
 "cells": [
  {
   "cell_type": "code",
   "execution_count": 1,
   "id": "5653f54d",
   "metadata": {},
   "outputs": [],
   "source": [
    "import numpy as np\n",
    "from tqdm import tqdm\n",
    "from utils import *\n",
    "from utils_data import *\n",
    "import argparse\n",
    "import os\n",
    "import random\n",
    "random.seed(0)\n",
    "\n",
    "from models import Glow\n",
    "from models.glow.coupling import UNet1\n",
    "import util\n",
    "import torch.optim as optim\n",
    "import torch.optim.lr_scheduler as sched\n",
    "import torch.backends.cudnn as cudnn"
   ]
  },
  {
   "cell_type": "code",
   "execution_count": 2,
   "id": "b9020e4d",
   "metadata": {},
   "outputs": [],
   "source": [
    "parser = argparse.ArgumentParser()\n",
    "\n",
    "parser.add_argument('--mode', type=str, default='petgc')\n",
    "parser.add_argument('--noise_level', type=list, default=[20]) # For PET-CT, noise_level = [PET, CT]\n",
    "parser.add_argument('--semi_sup', type=bool, default=True)\n",
    "parser.add_argument('--supervision', type=float, default=0.0)\n",
    "parser.add_argument('--secondary_noisy', type=bool, default=False)\n",
    "parser.add_argument('--resume_training', type=int, default=0)\n",
    "parser.add_argument('--train_size', type=int, default=800)\n",
    "parser.add_argument('--blur_mode',type=str, default=None)\n",
    "parser.add_argument('--new_range',type=int, default=2)\n",
    "\n",
    "parser.add_argument('--transfer_learning', type=bool, default=False)\n",
    "parser.add_argument('--transfer_path', type=str, default='../results200_nd/unet_var_multi5/e3sgdws_petct_bpetnoperc_unet_var_ggg_multif_semi_0.0005-5000_0.5/model_400.ckpt')\n",
    "\n",
    "parser.add_argument('--batch_size', type=int, default=1)\n",
    "parser.add_argument('--device', type=str, default='cuda:1')\n",
    "\n",
    "parser.add_argument('--save', type=bool, default=False)\n",
    "parser.add_argument('--path', type=str, default='../results/e3adam_')\n",
    "parser.add_argument('--save_path', type=str, default='')\n",
    "parser.add_argument('--save_path_fig', type=str, default='')\n",
    "\n",
    "def str2bool(s):\n",
    "    return s.lower().startswith('t')\n",
    "parser.add_argument('--num_levels', '-L', default=4, type=int, help='Number of levels in the Glow model')\n",
    "parser.add_argument('--num_steps', '-K', default=8, type=int, help='Number of steps of flow in each level')\n",
    "parser.add_argument('--cc', type = str2bool, default = False)\n",
    "parser.add_argument('--warm_up', default=500000, type=int, help='Number of steps for lr warm-up')\n",
    "parser.add_argument('--ext', default = 'll', type=str)\n",
    "\n",
    "args = parser.parse_args(args=[])\n",
    "# args_check(args)"
   ]
  },
  {
   "cell_type": "code",
   "execution_count": 3,
   "id": "bd4d1bde",
   "metadata": {},
   "outputs": [
    {
     "name": "stdout",
     "output_type": "stream",
     "text": [
      "(800, 1, 256, 256) (433, 1, 256, 256)\n",
      "same used\n"
     ]
    }
   ],
   "source": [
    "_, test_dataloader, _ = load_data(args)"
   ]
  },
  {
   "cell_type": "code",
   "execution_count": 4,
   "id": "ee7e35bd",
   "metadata": {},
   "outputs": [
    {
     "name": "stdout",
     "output_type": "stream",
     "text": [
      "../results/e3adam_petgc_same_semi_20_0.0\n"
     ]
    }
   ],
   "source": [
    "args = create_save_path(args)"
   ]
  },
  {
   "cell_type": "code",
   "execution_count": 5,
   "id": "83382bac",
   "metadata": {},
   "outputs": [
    {
     "name": "stdout",
     "output_type": "stream",
     "text": [
      "[ 25  50  75 100 125 150 175 200 225 250 275 300 325 350 375 400 425 450\n",
      " 475 500]\n"
     ]
    }
   ],
   "source": [
    "mods = np.arange(25,501,25).astype('int')\n",
    "mod_errors = []\n",
    "print(mods)"
   ]
  },
  {
   "cell_type": "code",
   "execution_count": null,
   "id": "76ae0649",
   "metadata": {},
   "outputs": [
    {
     "name": "stdout",
     "output_type": "stream",
     "text": [
      "loaded model 25\n"
     ]
    },
    {
     "name": "stderr",
     "output_type": "stream",
     "text": [
      "  0%|          | 0/433 [01:30<?, ?it/s]\n"
     ]
    },
    {
     "name": "stdout",
     "output_type": "stream",
     "text": [
      "[4.89174843e+00 6.08428122e-04 0.00000000e+00]\n",
      "loaded model 50\n"
     ]
    },
    {
     "name": "stderr",
     "output_type": "stream",
     "text": [
      "  0%|          | 0/433 [01:32<?, ?it/s]\n"
     ]
    },
    {
     "name": "stdout",
     "output_type": "stream",
     "text": [
      "[1.59474039 0.10164069 0.        ]\n",
      "loaded model 75\n"
     ]
    },
    {
     "name": "stderr",
     "output_type": "stream",
     "text": [
      "  0%|          | 0/433 [01:45<?, ?it/s]\n"
     ]
    },
    {
     "name": "stdout",
     "output_type": "stream",
     "text": [
      "[ 4.66963291e+00 -3.02978203e-04  0.00000000e+00]\n",
      "loaded model 100\n"
     ]
    },
    {
     "name": "stderr",
     "output_type": "stream",
     "text": [
      "  0%|          | 0/433 [02:03<?, ?it/s]\n"
     ]
    },
    {
     "name": "stdout",
     "output_type": "stream",
     "text": [
      "[4.80275822e+00 4.83450098e-04 0.00000000e+00]\n",
      "loaded model 125\n"
     ]
    },
    {
     "name": "stderr",
     "output_type": "stream",
     "text": [
      "  0%|          | 0/433 [02:05<?, ?it/s]\n"
     ]
    },
    {
     "name": "stdout",
     "output_type": "stream",
     "text": [
      "[2.56653738 0.0684304  0.        ]\n",
      "loaded model 150\n"
     ]
    },
    {
     "name": "stderr",
     "output_type": "stream",
     "text": [
      "\r",
      "  0%|          | 0/433 [00:00<?, ?it/s]"
     ]
    }
   ],
   "source": [
    "for mod in mods:\n",
    "    model = Glow(num_channels=128,\n",
    "               num_levels=args.num_levels,\n",
    "               num_steps=args.num_steps,\n",
    "               inp_channel=1,\n",
    "               cond_channel=1,\n",
    "               cc = args.cc)\n",
    "    \n",
    "    model.load_state_dict(torch.load(args.save_path+'/model_'+str(mod)+'.ckpt', map_location='cpu'))\n",
    "    print(\"loaded model \"+str(mod))\n",
    "    if torch.cuda.is_available():\n",
    "        model = model.to(args.device)\n",
    "        \n",
    "    err = test_model(args,model,test_dataloader)\n",
    "    mod_errors.append(err) \n",
    "    print(np.median(err,0))"
   ]
  },
  {
   "cell_type": "code",
   "execution_count": null,
   "id": "82a5bca3",
   "metadata": {},
   "outputs": [],
   "source": [
    "with open(args.save_path+'/errors.txt', 'a') as f:\n",
    "    for i,err in enumerate(mod_errors):\n",
    "        f.write(str(mods[i])+': '+str(np.median(np.array(err),0))+'\\n')"
   ]
  },
  {
   "cell_type": "markdown",
   "id": "e486b780",
   "metadata": {},
   "source": [
    "args.save= False\n",
    "args.save_nii= False\n",
    "mod = 300\n",
    "model = Glow(num_channels=128,\n",
    "               num_levels=args.num_levels,\n",
    "               num_steps=args.num_steps,\n",
    "               inp_channel=1,\n",
    "               cond_channel=1,\n",
    "               cc = args.cc)\n",
    "# model.load_state_dict(torch.load(args.save_path+'/model_'+str(mod)+'.ckpt', map_location='cpu'))\n",
    "# model.load_state_dict(torch.load('../1.0_ll+sl_pl_out_0.02.pth.tar', map_location='cpu'),strict=False)\n",
    "checkpoint = torch.load('../1.0_ll+sl_pl_out_0.02.pth.tar', map_location = 'cpu')\n",
    "model.load_state_dict(checkpoint['net'])\n",
    "if torch.cuda.is_available():\n",
    "        model = model.to(args.device)\n",
    "        \n",
    "errors = test_model(args,model,test_dataloader)\n",
    "print(np.median(errors,0))\n",
    "# np.save(args.save_path+'/errors_300',errors)"
   ]
  },
  {
   "cell_type": "code",
   "execution_count": null,
   "id": "b426afdc",
   "metadata": {},
   "outputs": [],
   "source": []
  }
 ],
 "metadata": {
  "kernelspec": {
   "display_name": "Python 3 (ipykernel)",
   "language": "python",
   "name": "python3"
  },
  "language_info": {
   "codemirror_mode": {
    "name": "ipython",
    "version": 3
   },
   "file_extension": ".py",
   "mimetype": "text/x-python",
   "name": "python",
   "nbconvert_exporter": "python",
   "pygments_lexer": "ipython3",
   "version": "3.9.5"
  }
 },
 "nbformat": 4,
 "nbformat_minor": 5
}
